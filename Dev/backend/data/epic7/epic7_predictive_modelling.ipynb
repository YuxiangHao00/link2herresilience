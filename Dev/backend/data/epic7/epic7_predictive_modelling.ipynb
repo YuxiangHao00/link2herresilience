{
 "cells": [
  {
   "cell_type": "markdown",
   "metadata": {
    "id": "tYgid4Me8WXL"
   },
   "source": [
    "## FIT5120: IE Studio Project\n",
    "\n",
    "### {EPIC7} Addiction risk prediction model\n",
    "\n",
    "#### Author: Mandeep Singh"
   ]
  },
  {
   "cell_type": "code",
   "execution_count": 1,
   "metadata": {
    "id": "jftwKXGf8s0B"
   },
   "outputs": [],
   "source": [
    "import pandas as pd\n",
    "from sklearn.neural_network import MLPRegressor\n",
    "from sklearn.model_selection import train_test_split\n",
    "from sklearn.pipeline import make_pipeline\n",
    "from sklearn.preprocessing import StandardScaler, OneHotEncoder\n",
    "\n",
    "\n",
    "dict_regr = dict()\n",
    "\n",
    "df_X = pd.read_csv('df_X.csv')\n",
    "df_Y = pd.read_csv('df_cause_effect.csv')\n"
   ]
  },
  {
   "cell_type": "code",
   "execution_count": 2,
   "metadata": {
    "colab": {
     "base_uri": "https://localhost:8080/"
    },
    "id": "gDUsOaXO93kS",
    "outputId": "0244ad07-47fa-4ec3-d8d5-fa4bb8139f2e"
   },
   "outputs": [
    {
     "data": {
      "text/plain": [
       "Index(['Unnamed: 0', 'adwrdiet', 'talkprob', 'auoptyr', 'yetlknon', 'yowrslep',\n",
       "       'pnrlwd3sx', 'pnrrsotrs2', 'aualtyr', 'ciginctl', 'cigcrave', 'iralcfy',\n",
       "       'irmjfy', 'cig30use'],\n",
       "      dtype='object')"
      ]
     },
     "execution_count": 2,
     "metadata": {},
     "output_type": "execute_result"
    }
   ],
   "source": [
    "df_X.columns\n"
   ]
  },
  {
   "cell_type": "code",
   "execution_count": 3,
   "metadata": {
    "colab": {
     "base_uri": "https://localhost:8080/"
    },
    "id": "7L8ZebQzRIQv",
    "outputId": "2abfefd7-a03c-4144-bbfe-5d376605f976"
   },
   "outputs": [
    {
     "data": {
      "text/plain": [
       "array([99, 98,  2,  1, 94, 97])"
      ]
     },
     "execution_count": 3,
     "metadata": {},
     "output_type": "execute_result"
    }
   ],
   "source": [
    "df_X.adwrdiet.unique()"
   ]
  },
  {
   "cell_type": "code",
   "execution_count": 4,
   "metadata": {
    "colab": {
     "base_uri": "https://localhost:8080/"
    },
    "id": "1RoboZmjdZkF",
    "outputId": "92f97a6e-f4da-437b-cfeb-05d92f061701"
   },
   "outputs": [
    {
     "data": {
      "text/plain": [
       "{0.0,\n",
       " 1,\n",
       " 2,\n",
       " 3,\n",
       " 4,\n",
       " 5,\n",
       " 6,\n",
       " 7,\n",
       " 8,\n",
       " 10,\n",
       " 11,\n",
       " 13,\n",
       " 14,\n",
       " 16,\n",
       " 18,\n",
       " 19,\n",
       " 26,\n",
       " 34,\n",
       " 71,\n",
       " 72,\n",
       " 83,\n",
       " 85,\n",
       " 89,\n",
       " 91,\n",
       " 93,\n",
       " 94,\n",
       " 97,\n",
       " 98,\n",
       " 99,\n",
       " 983,\n",
       " 985,\n",
       " 991,\n",
       " 993,\n",
       " 994,\n",
       " 997,\n",
       " 998,\n",
       " 999}"
      ]
     },
     "execution_count": 4,
     "metadata": {},
     "output_type": "execute_result"
    }
   ],
   "source": [
    "set_unique_X = set()\n",
    "for col in df_X.columns:\n",
    "    if col not in {'Unnamed: 0', 'cig30use', 'iralcfy', 'irmjfy'}:\n",
    "        set_unique_X = set_unique_X | set(df_X[col].unique())\n",
    "\n",
    "set_unique_X"
   ]
  },
  {
   "cell_type": "code",
   "execution_count": 5,
   "metadata": {
    "colab": {
     "base_uri": "https://localhost:8080/"
    },
    "id": "zLlLh3YCA4vK",
    "outputId": "caa92be9-951e-48e0-c1df-20179f65fec2"
   },
   "outputs": [
    {
     "data": {
      "text/plain": [
       "Index(['Unnamed: 0', 'alcserpb', 'mrjlawtr', 'halulawtr', 'herserpb',\n",
       "       'alclawtr', 'pnrlphctd', 'trqlserpb', 'alcemctd', 'methphctd',\n",
       "       'coclawtr', 'haluemctd', 'stimemctd', 'pnrlpdang', 'mrjfmctd',\n",
       "       'heremctd', 'methemctd', 'inhllsact', 'sedvserpb', 'trqlphlpb',\n",
       "       'stimlawtr', 'inhlpdang', 'sedvemctd', 'alcphctd', 'alclsact',\n",
       "       'halulsact', 'inhlemctd', 'herphlpb', 'cocserpb', 'inhllawtr',\n",
       "       'sedvpdang', 'cocfmctd', 'mrjphlpb', 'trqllawtr', 'halupdang',\n",
       "       'mrjpdang', 'trqlemctd', 'stimpdang', 'haluphctd', 'cocemctd',\n",
       "       'stimlsact', 'sedvlsact', 'methfmctd', 'trqllsact', 'trqlpdang',\n",
       "       'herpdang', 'herfmctd', 'stimphctd', 'pnrlphlpb', 'mrjemctd',\n",
       "       'inhlserpb', 'sedvphlpb', 'cocpdang', 'haluserpb', 'mrjlsact',\n",
       "       'trqlphctd', 'sedvfmctd', 'sedvphctd', 'methserpb', 'pnrllsact',\n",
       "       'alcpdang', 'stimfmctd', 'haluphlpb', 'methpdang', 'sedvlawtr',\n",
       "       'alcfmctd', 'inhlphctd', 'herphctd', 'mrjserpb', 'coclsact',\n",
       "       'methphlpb', 'mrjphctd', 'inhlphlpb', 'pnrlserpb', 'herlsact',\n",
       "       'trqlfmctd', 'pnrlfmctd', 'inhlfmctd', 'cocphlpb', 'herlawtr',\n",
       "       'methlsact', 'cocphctd', 'stimphlpb', 'alcphlpb', 'pnrlemctd',\n",
       "       'methlawtr', 'halufmctd', 'stimserpb', 'pnrllawtr', 'adwrdiet',\n",
       "       'talkprob', 'auoptyr', 'yetlknon', 'yowrslep', 'pnrlwd3sx',\n",
       "       'pnrrsotrs2', 'aualtyr', 'ciginctl'],\n",
       "      dtype='object')"
      ]
     },
     "execution_count": 5,
     "metadata": {},
     "output_type": "execute_result"
    }
   ],
   "source": [
    "df_Y.columns"
   ]
  },
  {
   "cell_type": "code",
   "execution_count": 6,
   "metadata": {
    "colab": {
     "base_uri": "https://localhost:8080/",
     "height": 458
    },
    "id": "cjNwvJtRA7GY",
    "outputId": "7d6afa7e-c54e-4095-dcbc-90e593cb4c7c"
   },
   "outputs": [
    {
     "data": {
      "text/plain": [
       "0              0\n",
       "1              1\n",
       "2              2\n",
       "3              3\n",
       "4              4\n",
       "           ...  \n",
       "282763    282763\n",
       "282764    282764\n",
       "282765    282765\n",
       "282766    282766\n",
       "282767    282767\n",
       "Name: Unnamed: 0, Length: 282768, dtype: int64"
      ]
     },
     "execution_count": 6,
     "metadata": {},
     "output_type": "execute_result"
    }
   ],
   "source": [
    "df_X['Unnamed: 0']"
   ]
  },
  {
   "cell_type": "code",
   "execution_count": 7,
   "metadata": {
    "id": "b72Pn9CzRDUJ"
   },
   "outputs": [],
   "source": [
    "df_X.drop(columns='Unnamed: 0', inplace=True)"
   ]
  },
  {
   "cell_type": "code",
   "execution_count": 8,
   "metadata": {
    "id": "WyD9pB3kRS68"
   },
   "outputs": [],
   "source": [
    "df_Y.drop(columns='Unnamed: 0', inplace=True)"
   ]
  },
  {
   "cell_type": "code",
   "execution_count": 9,
   "metadata": {
    "id": "SKBVSiJZBDMK"
   },
   "outputs": [],
   "source": [
    "from sklearn.compose import ColumnTransformer\n",
    "\n",
    "preprocess = ColumnTransformer(transformers=\n",
    "    [\n",
    "        ('num', StandardScaler(), ['cig30use', 'iralcfy', 'irmjfy']),\n",
    "        ('cat', OneHotEncoder(), list(set(df_X.columns) - {'cig30use', 'iralcfy', 'irmjfy'}))\n",
    "    ]\n",
    ")"
   ]
  },
  {
   "cell_type": "code",
   "execution_count": 10,
   "metadata": {
    "colab": {
     "base_uri": "https://localhost:8080/"
    },
    "id": "wZGlpkyqUFMf",
    "outputId": "3488376c-9644-49bb-edb3-8fcba2ed3f8a"
   },
   "outputs": [
    {
     "data": {
      "text/plain": [
       "(282768, 13)"
      ]
     },
     "execution_count": 10,
     "metadata": {},
     "output_type": "execute_result"
    }
   ],
   "source": [
    "df_X.shape"
   ]
  },
  {
   "cell_type": "code",
   "execution_count": 11,
   "metadata": {
    "colab": {
     "base_uri": "https://localhost:8080/"
    },
    "id": "b8GRNV60UHXP",
    "outputId": "14f052a7-374f-4b55-8828-df00a75a346b"
   },
   "outputs": [
    {
     "data": {
      "text/plain": [
       "(282768, 97)"
      ]
     },
     "execution_count": 11,
     "metadata": {},
     "output_type": "execute_result"
    }
   ],
   "source": [
    "df_Y.shape"
   ]
  },
  {
   "cell_type": "code",
   "execution_count": 12,
   "metadata": {
    "colab": {
     "base_uri": "https://localhost:8080/"
    },
    "id": "STN5I31ZEEyb",
    "outputId": "322a0286-b0da-4c2f-d9d6-6f8211e05ec0"
   },
   "outputs": [
    {
     "name": "stdout",
     "output_type": "stream",
     "text": [
      "df_X_.shape: (282768, 104), df_Y_.shape: (282768, 854)\n",
      "X_train.shape: (212076, 104), Y_train: (212076, 854)\n"
     ]
    }
   ],
   "source": [
    "import pickle\n",
    "from sklearn.neural_network import MLPClassifier\n",
    "\n",
    "df_X_ = preprocess.fit_transform(df_X)\n",
    "preprocess_y = ColumnTransformer(\n",
    "    [\n",
    "        ('cat', OneHotEncoder(), df_Y.columns)\n",
    "    ]\n",
    ")\n",
    "\n",
    "df_Y_ = preprocess_y.fit_transform(df_Y)\n",
    "\n",
    "print(f\"df_X_.shape: {df_X_.shape}, df_Y_.shape: {df_Y_.shape}\")\n",
    "\n",
    "X_train, X_test, Y_train, Y_test = train_test_split(df_X_, df_Y_,#.to_numpy(),\n",
    "                                                    random_state=1)\n",
    "\n",
    "print(f\"X_train.shape: {X_train.shape}, Y_train: {Y_train.shape}\")\n"
   ]
  },
  {
   "cell_type": "code",
   "execution_count": 16,
   "metadata": {
    "colab": {
     "base_uri": "https://localhost:8080/"
    },
    "id": "ziCbM293Qw06",
    "outputId": "019ea125-c3b1-4a8e-c5ea-2b3c66ea9664"
   },
   "outputs": [
    {
     "name": "stdout",
     "output_type": "stream",
     "text": [
      "MLPClassifier:\n",
      "trained using Y[alcserpb] w/ score=0.9854863350874215\n",
      "trained using Y[mrjlawtr] w/ score=0.9715667968086912\n",
      "trained using Y[halulawtr] w/ score=0.9979347026537656\n",
      "trained using Y[herserpb] w/ score=0.9999292706388276\n",
      "trained using Y[alclawtr] w/ score=0.9327080857805692\n"
     ]
    },
    {
     "name": "stderr",
     "output_type": "stream",
     "text": [
      "/Users/mandeep/opt/anaconda3/lib/python3.9/site-packages/sklearn/neural_network/_multilayer_perceptron.py:691: ConvergenceWarning: Stochastic Optimizer: Maximum iterations (200) reached and the optimization hasn't converged yet.\n",
      "  warnings.warn(\n"
     ]
    },
    {
     "name": "stdout",
     "output_type": "stream",
     "text": [
      "trained using Y[pnrlphctd] w/ score=0.9197504668137837\n",
      "trained using Y[trqlserpb] w/ score=0.9994200192383862\n",
      "trained using Y[alcemctd] w/ score=0.9993351440049794\n",
      "trained using Y[methphctd] w/ score=0.9938182538335314\n",
      "trained using Y[coclawtr] w/ score=0.9970718044474622\n",
      "trained using Y[haluemctd] w/ score=0.9891076783794489\n",
      "trained using Y[stimemctd] w/ score=0.9992361228993379\n",
      "trained using Y[pnrlpdang] w/ score=1.0\n",
      "trained using Y[mrjfmctd] w/ score=0.998387370565269\n"
     ]
    },
    {
     "name": "stderr",
     "output_type": "stream",
     "text": [
      "/Users/mandeep/opt/anaconda3/lib/python3.9/site-packages/sklearn/neural_network/_multilayer_perceptron.py:691: ConvergenceWarning: Stochastic Optimizer: Maximum iterations (200) reached and the optimization hasn't converged yet.\n",
      "  warnings.warn(\n"
     ]
    },
    {
     "name": "stdout",
     "output_type": "stream",
     "text": [
      "trained using Y[heremctd] w/ score=0.9934646070276694\n",
      "trained using Y[methemctd] w/ score=0.9998443954054207\n",
      "trained using Y[inhllsact] w/ score=0.9992361228993379\n",
      "trained using Y[sedvserpb] w/ score=0.9963079273468002\n",
      "trained using Y[trqlphlpb] w/ score=0.999561477960731\n",
      "trained using Y[stimlawtr] w/ score=0.972938946415436\n",
      "trained using Y[inhlpdang] w/ score=0.9999858541277655\n",
      "trained using Y[sedvemctd] w/ score=0.8810190686357721\n",
      "trained using Y[alcphctd] w/ score=0.8922225994454818\n",
      "trained using Y[alclsact] w/ score=0.9998726871498896\n",
      "trained using Y[halulsact] w/ score=0.999915124766593\n",
      "trained using Y[inhlemctd] w/ score=0.9927290216714763\n",
      "trained using Y[herphlpb] w/ score=0.9982317659706897\n",
      "trained using Y[cocserpb] w/ score=0.9973405760199174\n",
      "trained using Y[inhllawtr] w/ score=0.9817801165619872\n",
      "trained using Y[sedvpdang] w/ score=0.9870140892887456\n",
      "trained using Y[cocfmctd] w/ score=0.9999858541277655\n",
      "trained using Y[mrjphlpb] w/ score=1.0\n",
      "trained using Y[trqllawtr] w/ score=0.9993351440049794\n",
      "trained using Y[halupdang] w/ score=0.9939031290669382\n",
      "trained using Y[mrjpdang] w/ score=0.9800684660216149\n",
      "trained using Y[trqlemctd] w/ score=0.9979347026537656\n",
      "trained using Y[stimpdang] w/ score=0.9999434165110621\n",
      "trained using Y[haluphctd] w/ score=0.9330900243309003\n"
     ]
    },
    {
     "name": "stderr",
     "output_type": "stream",
     "text": [
      "/Users/mandeep/opt/anaconda3/lib/python3.9/site-packages/sklearn/neural_network/_multilayer_perceptron.py:691: ConvergenceWarning: Stochastic Optimizer: Maximum iterations (200) reached and the optimization hasn't converged yet.\n",
      "  warnings.warn(\n"
     ]
    },
    {
     "name": "stdout",
     "output_type": "stream",
     "text": [
      "trained using Y[cocemctd] w/ score=0.9224664742828043\n",
      "trained using Y[stimlsact] w/ score=0.9995190403440276\n",
      "trained using Y[sedvlsact] w/ score=0.9994341651106208\n",
      "trained using Y[methfmctd] w/ score=0.9937899620890625\n",
      "trained using Y[trqllsact] w/ score=0.9996322073219035\n",
      "trained using Y[trqlpdang] w/ score=0.9992927063882759\n",
      "trained using Y[herpdang] w/ score=1.0\n",
      "trained using Y[herfmctd] w/ score=0.9999858541277655\n",
      "trained using Y[stimphctd] w/ score=1.0\n",
      "trained using Y[pnrlphlpb] w/ score=1.0\n",
      "trained using Y[mrjemctd] w/ score=1.0\n",
      "trained using Y[inhlserpb] w/ score=0.9997595201720139\n",
      "trained using Y[sedvphlpb] w/ score=0.9997312284275448\n",
      "trained using Y[cocpdang] w/ score=0.9985288292876139\n",
      "trained using Y[haluserpb] w/ score=0.9981185989928139\n",
      "trained using Y[mrjlsact] w/ score=0.9751315566117806\n",
      "trained using Y[trqlphctd] w/ score=0.9956713630962485\n",
      "trained using Y[sedvfmctd] w/ score=0.9998868330221241\n",
      "trained using Y[sedvphctd] w/ score=0.948608046172127\n",
      "trained using Y[methserpb] w/ score=0.9818084083064562\n",
      "trained using Y[pnrllsact] w/ score=0.999971708255531\n",
      "trained using Y[alcpdang] w/ score=0.9999292706388276\n",
      "trained using Y[stimfmctd] w/ score=0.9969727833418208\n",
      "trained using Y[haluphlpb] w/ score=0.9768573530243875\n",
      "trained using Y[methpdang] w/ score=0.9844253946698354\n",
      "trained using Y[sedvlawtr] w/ score=0.9979347026537656\n",
      "trained using Y[alcfmctd] w/ score=1.0\n",
      "trained using Y[inhlphctd] w/ score=0.9333163582866519\n"
     ]
    },
    {
     "name": "stderr",
     "output_type": "stream",
     "text": [
      "/Users/mandeep/opt/anaconda3/lib/python3.9/site-packages/sklearn/neural_network/_multilayer_perceptron.py:691: ConvergenceWarning: Stochastic Optimizer: Maximum iterations (200) reached and the optimization hasn't converged yet.\n",
      "  warnings.warn(\n"
     ]
    },
    {
     "name": "stdout",
     "output_type": "stream",
     "text": [
      "trained using Y[herphctd] w/ score=0.919142194307701\n",
      "trained using Y[mrjserpb] w/ score=0.999971708255531\n",
      "trained using Y[coclsact] w/ score=0.9993209981327449\n",
      "trained using Y[methphlpb] w/ score=0.9929695014994625\n",
      "trained using Y[mrjphctd] w/ score=0.9446189102020031\n",
      "trained using Y[inhlphlpb] w/ score=0.9998161036609517\n",
      "trained using Y[pnrlserpb] w/ score=0.9997736660442483\n",
      "trained using Y[herlsact] w/ score=1.0\n",
      "trained using Y[trqlfmctd] w/ score=0.9534176427318508\n",
      "trained using Y[pnrlfmctd] w/ score=0.961961749561478\n",
      "trained using Y[inhlfmctd] w/ score=0.9999434165110621\n",
      "trained using Y[cocphlpb] w/ score=0.9983024953318622\n",
      "trained using Y[herlawtr] w/ score=0.9929695014994625\n",
      "trained using Y[methlsact] w/ score=0.9990663724325242\n",
      "trained using Y[cocphctd] w/ score=0.9774231879137668\n",
      "trained using Y[stimphlpb] w/ score=1.0\n",
      "trained using Y[alcphlpb] w/ score=0.9000877044078538\n",
      "trained using Y[pnrlemctd] w/ score=0.9099473773552877\n",
      "trained using Y[methlawtr] w/ score=0.9999575623832966\n",
      "trained using Y[halufmctd] w/ score=0.9997878119164828\n",
      "trained using Y[stimserpb] w/ score=0.9987268714988966\n",
      "trained using Y[pnrllawtr] w/ score=0.9990663724325242\n",
      "trained using Y[adwrdiet] w/ score=0.998472245798676\n",
      "trained using Y[talkprob] w/ score=1.0\n",
      "trained using Y[auoptyr] w/ score=0.8805239631075652\n",
      "trained using Y[yetlknon] w/ score=0.8924772251457025\n",
      "trained using Y[yowrslep] w/ score=0.999971708255531\n",
      "trained using Y[pnrlwd3sx] w/ score=0.9999009788943586\n",
      "trained using Y[pnrrsotrs2] w/ score=0.9926017088213659\n",
      "trained using Y[aualtyr] w/ score=0.9745798675946359\n",
      "trained using Y[ciginctl] w/ score=0.9981468907372829\n"
     ]
    }
   ],
   "source": [
    "import os\n",
    "\n",
    "if not os.path.isdir('./mlp_clf'):\n",
    "    os.mkdir('mlp_clf')\n",
    "\n",
    "dict_clf = {}\n",
    "print(\"MLPClassifier:\")\n",
    "for i, col in enumerate(df_Y.columns):\n",
    "    if col != 'Unnamed: 0':\n",
    "        curr_clf = MLPClassifier(hidden_layer_sizes=(64,))\n",
    "\n",
    "        # print(X_train.shape, Y_train[:,i].shape)\n",
    "        curr_clf.fit(X_train, Y_train[:,i].toarray().ravel())\n",
    "        dict_clf[col] = {'clf': curr_clf,\n",
    "                          'score': curr_clf.score(X_test, Y_test[:,i].toarray().ravel())}\n",
    "\n",
    "        print(f\"trained using Y[{col}] w/ score={dict_clf[col]['score']}\")\n",
    "\n",
    "        with open('./mlp_clf/mlp_clf_' + col + '.pkl', 'wb') as file:\n",
    "            pickle.dump(curr_clf, file)\n"
   ]
  },
  {
   "cell_type": "code",
   "execution_count": 17,
   "metadata": {
    "id": "g8QQkzYohuMd"
   },
   "outputs": [],
   "source": [
    "with open('dict_mlp.pkl', 'wb') as file:\n",
    "    pickle.dump(dict_clf, file)"
   ]
  },
  {
   "cell_type": "code",
   "execution_count": 18,
   "metadata": {
    "id": "Ex-mbXAiFtBx"
   },
   "outputs": [],
   "source": [
    "with open('X_column_transformer.pkl', 'wb') as file:\n",
    "    pickle.dump(preprocess.get_params(), file)\n",
    "\n",
    "preprocess_Y = ColumnTransformer(\n",
    "    [\n",
    "        ('cat', OneHotEncoder(), df_Y.columns)\n",
    "    ]\n",
    ")\n",
    "\n",
    "df_Y__ = preprocess_Y.fit_transform(df_Y)\n",
    "\n",
    "with open('Y_column_transformer.pkl', 'wb') as file:\n",
    "    pickle.dump(preprocess_Y.get_params(), file)\n"
   ]
  },
  {
   "cell_type": "code",
   "execution_count": 19,
   "metadata": {},
   "outputs": [],
   "source": [
    "with open('X_column_transformer.pkl', 'wb') as file:\n",
    "    pickle.dump(preprocess, file)\n",
    "\n",
    "\n",
    "with open('Y_column_transformer.pkl', 'wb') as file:\n",
    "    pickle.dump(preprocess_y, file)\n",
    "\n"
   ]
  },
  {
   "cell_type": "code",
   "execution_count": null,
   "metadata": {
    "colab": {
     "base_uri": "https://localhost:8080/"
    },
    "id": "qBNX0Q91NA-R",
    "outputId": "d8c36021-b097-4545-d587-257589be2cc7"
   },
   "outputs": [],
   "source": [
    "df_Y__.shape"
   ]
  },
  {
   "cell_type": "code",
   "execution_count": null,
   "metadata": {
    "id": "Suq6GI8CNrGk"
   },
   "outputs": [],
   "source": [
    "import json\n",
    "with open('X_Y_columns.json', 'w') as file:\n",
    "    json.dump({\n",
    "      'X_col': list(df_X.columns),\n",
    "      'Y_col': list(df_Y.columns)\n",
    "    }, file)"
   ]
  },
  {
   "cell_type": "markdown",
   "metadata": {
    "id": "ILdEO2b2NUCb"
   },
   "source": [
    "### Inference"
   ]
  },
  {
   "cell_type": "code",
   "execution_count": null,
   "metadata": {
    "colab": {
     "base_uri": "https://localhost:8080/"
    },
    "id": "u20eokGGNE3W",
    "outputId": "c3cf33bf-e953-4095-8943-8c3f51e9c4ec"
   },
   "outputs": [],
   "source": [
    "list(df_X.columns)"
   ]
  },
  {
   "cell_type": "code",
   "execution_count": null,
   "metadata": {
    "colab": {
     "base_uri": "https://localhost:8080/"
    },
    "id": "2iRPfeFmO0FB",
    "outputId": "c88f0eb2-c8d0-4ff4-e5bc-d2f03bc7a5c9"
   },
   "outputs": [],
   "source": [
    "import numpy as np\n",
    "\n",
    "# sample instance\n",
    "x = np.array([1.,  1.,  1.,  1.,  2.,  1., 18.,  1.,  5.,  1., 12.,  5.,  1.])#.reshape(1,len(x))\n",
    "dict_x = {}\n",
    "for i, col in enumerate(df_X.columns):\n",
    "    dict_x[col] = x[i]\n",
    "df_x = pd.DataFrame(dict_x, index=[0])\n",
    "print(df_x.shape)\n"
   ]
  },
  {
   "cell_type": "code",
   "execution_count": null,
   "metadata": {
    "id": "JtkQ6WFtrC_k"
   },
   "outputs": [],
   "source": [
    "import pickle\n",
    "\n",
    "preprocess = ColumnTransformer(transformers=\n",
    "    [\n",
    "        ('num', StandardScaler(), ['cig30use', 'iralcfy', 'irmjfy']),\n",
    "        ('cat', OneHotEncoder(), list(set(df_X.columns) - {'cig30use', 'iralcfy', 'irmjfy'}))\n",
    "    ]\n",
    ")\n",
    "\n",
    "preprocess.fit_transform(df_X)\n",
    "\n",
    "\n"
   ]
  },
  {
   "cell_type": "code",
   "execution_count": null,
   "metadata": {
    "id": "O6jXukckjWfG"
   },
   "outputs": [],
   "source": [
    "with open(\"X_column_transformer.pkl\", 'wb') as file:\n",
    "    pickle.dump(preprocess, file)"
   ]
  },
  {
   "cell_type": "code",
   "execution_count": null,
   "metadata": {
    "id": "ODhCiDR7jbog"
   },
   "outputs": [],
   "source": [
    "with open(\"Y_column_transformer.pkl\", 'wb') as file:\n",
    "    pickle.dump(preprocess_y, file)"
   ]
  },
  {
   "cell_type": "code",
   "execution_count": null,
   "metadata": {
    "colab": {
     "base_uri": "https://localhost:8080/"
    },
    "id": "xgzNhqBHwqUE",
    "outputId": "6e0d3a86-f522-447b-cdb8-38c20ae29515"
   },
   "outputs": [],
   "source": [
    "import heapq\n",
    "\n",
    "# load the pre-processor\n",
    "with open('X_column_transformer.pkl', \"rb\") as file:\n",
    "    preprocess1 = pickle.load(file)\n",
    "\n",
    "x_transformed = preprocess1.transform(df_x)\n",
    "\n",
    "# causal effect variable options: 1=Yes, 2=No, 91=never used/misused, 93=didn't misuse in past 12 months\n",
    "list_y_pred_prob = []\n",
    "\n",
    "# heap of top5 prediction probability for each classes\n",
    "heap_y_pred_prob_top5 = []\n",
    "heapq.heappush(heap_y_pred_prob_top5, (0, -1))\n",
    "\n",
    "# joint probabil\n",
    "joint_y_pred_prob = None\n",
    "for i, col in enumerate(df_Y.columns):\n",
    "    list_y_pred_prob.append(dict_clf[col]['clf'].predict_proba(x_transformed))\n",
    "    # update queue of top5\n",
    "    if max(list_y_pred_prob[-1]) > heap_y_pred_prob_top5[0]:\n",
    "        if len(heap_y_pred_prob_top5) == 5:\n",
    "            heapq.heappop(heap_y_pred_prob_top5)\n",
    "        heapq.heappush(heap_y_pred_prob_top5, (max(list_y_pred_prob[-1]), i))\n",
    "        heapq.heapify(heap_y_pred_prob_top5)\n",
    "\n",
    "    if joint_y_pred_prob is None:\n",
    "        joint_y_pred_prob = list_y_pred_prob[-1]\n",
    "    else:\n",
    "        joint_y_pred_prob = joint_y_pred_prob + list_y_pred_prob[-1]\n",
    "\n",
    "joint_y_pred_prob = joint_y_pred_prob/len(list_y_pred_prob)\n",
    "\n",
    "np_y_pred_prob = np.asarray(list_y_pred_prob)\n",
    "np_y_pred_prob.shape\n"
   ]
  },
  {
   "cell_type": "code",
   "execution_count": null,
   "metadata": {
    "colab": {
     "base_uri": "https://localhost:8080/"
    },
    "id": "T7Agcm_03Pm0",
    "outputId": "6baa3f1b-e9ad-4acb-d2d3-204b8e0ecdd4"
   },
   "outputs": [],
   "source": []
  },
  {
   "cell_type": "code",
   "execution_count": null,
   "metadata": {
    "colab": {
     "base_uri": "https://localhost:8080/"
    },
    "id": "5nEG4frT3c8g",
    "outputId": "e31d6045-2aae-498e-d063-fa676a60091d"
   },
   "outputs": [],
   "source": [
    "df_Y.adwrdiet[0]"
   ]
  },
  {
   "cell_type": "code",
   "execution_count": null,
   "metadata": {
    "id": "o7aU5bG61ZuH"
   },
   "outputs": [],
   "source": []
  },
  {
   "cell_type": "markdown",
   "metadata": {
    "id": "XOJKwD1nwqHI"
   },
   "source": [
    "Clustering Algorithm"
   ]
  },
  {
   "cell_type": "code",
   "execution_count": null,
   "metadata": {
    "id": "FSgUtA1rvIrx"
   },
   "outputs": [],
   "source": []
  }
 ],
 "metadata": {
  "colab": {
   "provenance": []
  },
  "kernelspec": {
   "display_name": "Python 3 (ipykernel)",
   "language": "python",
   "name": "python3"
  },
  "language_info": {
   "codemirror_mode": {
    "name": "ipython",
    "version": 3
   },
   "file_extension": ".py",
   "mimetype": "text/x-python",
   "name": "python",
   "nbconvert_exporter": "python",
   "pygments_lexer": "ipython3",
   "version": "3.9.13"
  }
 },
 "nbformat": 4,
 "nbformat_minor": 1
}
